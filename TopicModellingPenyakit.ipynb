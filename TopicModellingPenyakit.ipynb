{
 "cells": [
  {
   "cell_type": "code",
   "execution_count": 1,
   "metadata": {},
   "outputs": [
    {
     "name": "stderr",
     "output_type": "stream",
     "text": [
      "[nltk_data] Downloading package stopwords to\n",
      "[nltk_data]     /Users/macbook/nltk_data...\n",
      "[nltk_data]   Package stopwords is already up-to-date!\n"
     ]
    }
   ],
   "source": [
    "import nltk\n",
    "nltk.download('stopwords')\n",
    "import re, string, unicodedata  \n",
    "import nltk\n",
    "from nltk import word_tokenize, sent_tokenize \n",
    "from nltk.corpus import stopwords\n",
    "from Sastrawi.StopWordRemover.StopWordRemoverFactory import StopWordRemoverFactory"
   ]
  },
  {
   "cell_type": "code",
   "execution_count": 2,
   "metadata": {},
   "outputs": [],
   "source": [
    "#preprocessing\n",
    "def removeStopword(str):\n",
    "    factory = StopWordRemoverFactory()\n",
    "    more_stopword = ['nya','kali', 'rt','hi','u','all']\n",
    "    stopwords = factory.get_stop_words()+more_stopword\n",
    "    word_tokens = str.split()\n",
    "    filtered_sentence = [w for w in word_tokens if not w in stopwords]\n",
    "    return ' '.join(filtered_sentence)\n",
    "#remove sentence which contains only one word\n",
    "def removeSentence(str): \n",
    "    word = str.split()\n",
    "    wordCount = len(word)\n",
    "    if(wordCount<=4):\n",
    "        str = ''\n",
    "    \n",
    "    return str\n",
    "def cleaning(str):\n",
    "    #remove non-ascii\n",
    "    str = unicodedata.normalize('NFKD', str).encode('ascii', 'ignore').decode('utf-8', 'ignore')\n",
    "    #remove URLs\n",
    "    str = re.sub(r'(?i)\\b((?:https?://|www\\d{0,3}[.]|[a-z0-9.\\-]+[.][a-z]{2,4}/)(?:[^\\s()<>]+|\\(([^\\s()<>]+|(\\([^\\s()<>]+\\)))*\\))+(?:\\(([^\\s()<>]+|(\\([^\\s()<>]+\\)))*\\)|[^\\s`!()\\[\\]{};:\\'\".,<>?«»“”‘’]))', '', str)\n",
    "    #remove punctuations\n",
    "    str = re.sub(r'[^\\w]|_',' ',str)\n",
    "    #remove digit from string\n",
    "    str = re.sub(\"\\S*\\d\\S*\", \"\", str).strip()\n",
    "    #remove digit or numbers\n",
    "    str = re.sub(r\"\\b\\d+\\b\", \" \", str)\n",
    "    #to lowercase\n",
    "    str = str.lower()\n",
    "    #Remove additional white spaces\n",
    "    str = re.sub('[\\s]+', ' ', str)\n",
    "       \n",
    "    return str\n",
    "def preprocessing(str):\n",
    "    str = removeSentence(str)\n",
    "    str = cleaning(str)\n",
    "    str = removeStopword(str)\n",
    "    \n",
    "    return str"
   ]
  },
  {
   "cell_type": "code",
   "execution_count": 3,
   "metadata": {},
   "outputs": [
    {
     "data": {
      "text/html": [
       "<div>\n",
       "<style scoped>\n",
       "    .dataframe tbody tr th:only-of-type {\n",
       "        vertical-align: middle;\n",
       "    }\n",
       "\n",
       "    .dataframe tbody tr th {\n",
       "        vertical-align: top;\n",
       "    }\n",
       "\n",
       "    .dataframe thead th {\n",
       "        text-align: right;\n",
       "    }\n",
       "</style>\n",
       "<table border=\"1\" class=\"dataframe\">\n",
       "  <thead>\n",
       "    <tr style=\"text-align: right;\">\n",
       "      <th></th>\n",
       "      <th>datetime</th>\n",
       "      <th>id</th>\n",
       "      <th>tweet</th>\n",
       "    </tr>\n",
       "  </thead>\n",
       "  <tbody>\n",
       "    <tr>\n",
       "      <th>0</th>\n",
       "      <td>2020-10-18 13:04:42</td>\n",
       "      <td>1317813858954735617</td>\n",
       "      <td>Ayam sayur juga rupanya, kena penyakit post po...</td>\n",
       "    </tr>\n",
       "    <tr>\n",
       "      <th>1</th>\n",
       "      <td>2020-10-18 13:04:23</td>\n",
       "      <td>1317813777862029312</td>\n",
       "      <td>RT @afrina_amira: Hi Guys , minta tolong u all...</td>\n",
       "    </tr>\n",
       "    <tr>\n",
       "      <th>2</th>\n",
       "      <td>2020-10-18 13:04:17</td>\n",
       "      <td>1317813752503226372</td>\n",
       "      <td>RT @cewehijrah: 3. PENYAKIT\\nMisalnya ada peny...</td>\n",
       "    </tr>\n",
       "    <tr>\n",
       "      <th>3</th>\n",
       "      <td>2020-10-18 13:04:10</td>\n",
       "      <td>1317813726335037441</td>\n",
       "      <td>Contohnya menghina dik willy yg megang rokokny...</td>\n",
       "    </tr>\n",
       "    <tr>\n",
       "      <th>4</th>\n",
       "      <td>2020-10-18 13:04:00</td>\n",
       "      <td>1317813682764615682</td>\n",
       "      <td>Buah mengkudu dapat digunakan untuk mengatasi ...</td>\n",
       "    </tr>\n",
       "    <tr>\n",
       "      <th>...</th>\n",
       "      <td>...</td>\n",
       "      <td>...</td>\n",
       "      <td>...</td>\n",
       "    </tr>\n",
       "    <tr>\n",
       "      <th>345</th>\n",
       "      <td>2020-10-18 12:02:16</td>\n",
       "      <td>1317798148593442816</td>\n",
       "      <td>RT @HausofHilton: Sekali Biasanya.\\n\\nTetapi v...</td>\n",
       "    </tr>\n",
       "    <tr>\n",
       "      <th>346</th>\n",
       "      <td>2020-10-18 12:01:57</td>\n",
       "      <td>1317798066800357377</td>\n",
       "      <td>RT @NiniNell: Yang bagi sedekah rakyat, yang b...</td>\n",
       "    </tr>\n",
       "    <tr>\n",
       "      <th>347</th>\n",
       "      <td>2020-10-18 12:01:39</td>\n",
       "      <td>1317797991894274048</td>\n",
       "      <td>@hobak_alt dokter pun bingung deh kayanya ini ...</td>\n",
       "    </tr>\n",
       "    <tr>\n",
       "      <th>348</th>\n",
       "      <td>2020-10-18 12:01:25</td>\n",
       "      <td>1317797934616858624</td>\n",
       "      <td>RT @aliffshanusi: 𝗦𝗲𝗻𝗮𝗿𝗮𝗶 𝟱𝟱 𝗣𝗲𝗻𝘆𝗮𝗸𝗶𝘁 𝗞𝗿𝗶𝘁𝗶𝗸𝗮𝗹...</td>\n",
       "    </tr>\n",
       "    <tr>\n",
       "      <th>349</th>\n",
       "      <td>2020-10-18 12:01:24</td>\n",
       "      <td>1317797931173343233</td>\n",
       "      <td>RT @afrina_amira: Hi Guys , minta tolong u all...</td>\n",
       "    </tr>\n",
       "  </tbody>\n",
       "</table>\n",
       "<p>350 rows × 3 columns</p>\n",
       "</div>"
      ],
      "text/plain": [
       "                datetime                   id  \\\n",
       "0    2020-10-18 13:04:42  1317813858954735617   \n",
       "1    2020-10-18 13:04:23  1317813777862029312   \n",
       "2    2020-10-18 13:04:17  1317813752503226372   \n",
       "3    2020-10-18 13:04:10  1317813726335037441   \n",
       "4    2020-10-18 13:04:00  1317813682764615682   \n",
       "..                   ...                  ...   \n",
       "345  2020-10-18 12:02:16  1317798148593442816   \n",
       "346  2020-10-18 12:01:57  1317798066800357377   \n",
       "347  2020-10-18 12:01:39  1317797991894274048   \n",
       "348  2020-10-18 12:01:25  1317797934616858624   \n",
       "349  2020-10-18 12:01:24  1317797931173343233   \n",
       "\n",
       "                                                 tweet  \n",
       "0    Ayam sayur juga rupanya, kena penyakit post po...  \n",
       "1    RT @afrina_amira: Hi Guys , minta tolong u all...  \n",
       "2    RT @cewehijrah: 3. PENYAKIT\\nMisalnya ada peny...  \n",
       "3    Contohnya menghina dik willy yg megang rokokny...  \n",
       "4    Buah mengkudu dapat digunakan untuk mengatasi ...  \n",
       "..                                                 ...  \n",
       "345  RT @HausofHilton: Sekali Biasanya.\\n\\nTetapi v...  \n",
       "346  RT @NiniNell: Yang bagi sedekah rakyat, yang b...  \n",
       "347  @hobak_alt dokter pun bingung deh kayanya ini ...  \n",
       "348  RT @aliffshanusi: 𝗦𝗲𝗻𝗮𝗿𝗮𝗶 𝟱𝟱 𝗣𝗲𝗻𝘆𝗮𝗸𝗶𝘁 𝗞𝗿𝗶𝘁𝗶𝗸𝗮𝗹...  \n",
       "349  RT @afrina_amira: Hi Guys , minta tolong u all...  \n",
       "\n",
       "[350 rows x 3 columns]"
      ]
     },
     "execution_count": 3,
     "metadata": {},
     "output_type": "execute_result"
    }
   ],
   "source": [
    "import pandas as pd\n",
    "data = pd.read_csv('penyakittext.csv')\n",
    "data"
   ]
  },
  {
   "cell_type": "code",
   "execution_count": 4,
   "metadata": {
    "scrolled": true
   },
   "outputs": [
    {
     "data": {
      "text/html": [
       "<div>\n",
       "<style scoped>\n",
       "    .dataframe tbody tr th:only-of-type {\n",
       "        vertical-align: middle;\n",
       "    }\n",
       "\n",
       "    .dataframe tbody tr th {\n",
       "        vertical-align: top;\n",
       "    }\n",
       "\n",
       "    .dataframe thead th {\n",
       "        text-align: right;\n",
       "    }\n",
       "</style>\n",
       "<table border=\"1\" class=\"dataframe\">\n",
       "  <thead>\n",
       "    <tr style=\"text-align: right;\">\n",
       "      <th></th>\n",
       "      <th>tweet</th>\n",
       "    </tr>\n",
       "  </thead>\n",
       "  <tbody>\n",
       "    <tr>\n",
       "      <th>0</th>\n",
       "      <td>Ayam sayur juga rupanya, kena penyakit post po...</td>\n",
       "    </tr>\n",
       "    <tr>\n",
       "      <th>1</th>\n",
       "      <td>RT @afrina_amira: Hi Guys , minta tolong u all...</td>\n",
       "    </tr>\n",
       "    <tr>\n",
       "      <th>2</th>\n",
       "      <td>RT @cewehijrah: 3. PENYAKIT\\nMisalnya ada peny...</td>\n",
       "    </tr>\n",
       "    <tr>\n",
       "      <th>3</th>\n",
       "      <td>Contohnya menghina dik willy yg megang rokokny...</td>\n",
       "    </tr>\n",
       "    <tr>\n",
       "      <th>4</th>\n",
       "      <td>Buah mengkudu dapat digunakan untuk mengatasi ...</td>\n",
       "    </tr>\n",
       "    <tr>\n",
       "      <th>...</th>\n",
       "      <td>...</td>\n",
       "    </tr>\n",
       "    <tr>\n",
       "      <th>345</th>\n",
       "      <td>RT @HausofHilton: Sekali Biasanya.\\n\\nTetapi v...</td>\n",
       "    </tr>\n",
       "    <tr>\n",
       "      <th>346</th>\n",
       "      <td>RT @NiniNell: Yang bagi sedekah rakyat, yang b...</td>\n",
       "    </tr>\n",
       "    <tr>\n",
       "      <th>347</th>\n",
       "      <td>@hobak_alt dokter pun bingung deh kayanya ini ...</td>\n",
       "    </tr>\n",
       "    <tr>\n",
       "      <th>348</th>\n",
       "      <td>RT @aliffshanusi: 𝗦𝗲𝗻𝗮𝗿𝗮𝗶 𝟱𝟱 𝗣𝗲𝗻𝘆𝗮𝗸𝗶𝘁 𝗞𝗿𝗶𝘁𝗶𝗸𝗮𝗹...</td>\n",
       "    </tr>\n",
       "    <tr>\n",
       "      <th>349</th>\n",
       "      <td>RT @afrina_amira: Hi Guys , minta tolong u all...</td>\n",
       "    </tr>\n",
       "  </tbody>\n",
       "</table>\n",
       "<p>350 rows × 1 columns</p>\n",
       "</div>"
      ],
      "text/plain": [
       "                                                 tweet\n",
       "0    Ayam sayur juga rupanya, kena penyakit post po...\n",
       "1    RT @afrina_amira: Hi Guys , minta tolong u all...\n",
       "2    RT @cewehijrah: 3. PENYAKIT\\nMisalnya ada peny...\n",
       "3    Contohnya menghina dik willy yg megang rokokny...\n",
       "4    Buah mengkudu dapat digunakan untuk mengatasi ...\n",
       "..                                                 ...\n",
       "345  RT @HausofHilton: Sekali Biasanya.\\n\\nTetapi v...\n",
       "346  RT @NiniNell: Yang bagi sedekah rakyat, yang b...\n",
       "347  @hobak_alt dokter pun bingung deh kayanya ini ...\n",
       "348  RT @aliffshanusi: 𝗦𝗲𝗻𝗮𝗿𝗮𝗶 𝟱𝟱 𝗣𝗲𝗻𝘆𝗮𝗸𝗶𝘁 𝗞𝗿𝗶𝘁𝗶𝗸𝗮𝗹...\n",
       "349  RT @afrina_amira: Hi Guys , minta tolong u all...\n",
       "\n",
       "[350 rows x 1 columns]"
      ]
     },
     "execution_count": 4,
     "metadata": {},
     "output_type": "execute_result"
    }
   ],
   "source": [
    "data = data[['tweet']]\n",
    "data"
   ]
  },
  {
   "cell_type": "code",
   "execution_count": 5,
   "metadata": {},
   "outputs": [],
   "source": [
    "from helper import *  \n",
    "import warnings\n",
    "warnings.filterwarnings('ignore')\n",
    "import pandas as pd "
   ]
  },
  {
   "cell_type": "code",
   "execution_count": 6,
   "metadata": {},
   "outputs": [
    {
     "name": "stdout",
     "output_type": "stream",
     "text": [
      "0      ayam sayur rupanya kena penyakit post power sy...\n",
      "1      afrina amira guys minta semua adik kawan ain n...\n",
      "2      cewehijrah penyakit misalnya pribadi jangan sa...\n",
      "3      contohnya menghina dik willy yg megang rokokny...\n",
      "4      buah mengkudu digunakan mengatasi penyakit hip...\n",
      "                             ...                        \n",
      "345    hausofhilton sekali biasanya virus varicella z...\n",
      "346    nininell sedekah rakyat bayar gaji dinosaur ra...\n",
      "347    hobak alt dokter bingung deh kayanya penyakit ...\n",
      "348    aliffshanusi senarai penyakit kritikal dibenar...\n",
      "349    afrina amira guys minta semua adik kawan ain n...\n",
      "Name: tweet, Length: 350, dtype: object\n"
     ]
    }
   ],
   "source": [
    "data = data['tweet'].apply(lambda x: preprocessing(x))\n",
    "print(data)"
   ]
  },
  {
   "cell_type": "code",
   "execution_count": 7,
   "metadata": {},
   "outputs": [
    {
     "name": "stdout",
     "output_type": "stream",
     "text": [
      "350\n",
      "[['ayam', 'sayur', 'rupanya', 'kena', 'penyakit', 'post', 'power', 'syndrome', 'lae', 'bah'], ['afrina', 'amira', 'guys', 'minta', 'semua', 'adik', 'kawan', 'ain', 'natasya', 'tahun', 'menghidap', 'penyakit', 'scoliosis'], ['cewehijrah', 'penyakit', 'misalnya', 'pribadi', 'jangan', 'sakit', 'umum', 'pilek', 'batuk', 'demam', 'kalo'], ['contohnya', 'menghina', 'dik', 'willy', 'yg', 'megang', 'rokoknya', 'ky', 'org', 'terkena', 'penyakit', 'mental'], ['buah', 'mengkudu', 'digunakan', 'mengatasi', 'penyakit', 'hipertensi', 'demam', 'influenza', 'batuk', 'sakit', 'perut', 'penampilanmu'], ['husninidhom', 'allah', 'perbaikilah', 'keadaan', 'mudahkanlah', 'urusan', 'sembuhkanlah', 'penyakit', 'lunaskanlah', 'hutang', 'hutang'], ['bts', 'twt', 'bismillah', 'wish', 'me', 'luck', 'semoga', 'rezeki', 'aminn', 'makasih', 'bun', 'udah', 'ngadain', 'ga', 'semoga', 'mama'], ['erzavindaf', 'iya', 'selingkuh', 'penyakit'], ['afrina', 'amira', 'guys', 'minta', 'semua', 'adik', 'kawan', 'ain', 'natasya', 'tahun', 'menghidap', 'penyakit', 'scoliosis'], ['nuruulm', 'ayo', 'sembuhkan', 'penyakit', 'over', 'thinking', 'teh'], ['hadeuh', 'moto', 'sepet', 'mesem', 'susah', 'nggon', 'curhat', 'ra', 'onok', 'kurang', 'turu', 'pisan', 'penyakit', 'susulan', 'greges', 'mumet', 'loro', 'un'], ['hoomaninthemoon', 'vleugelsxx', 'aku', 'ikut', 'baca', 'maap', 'yaa', 'btw', 'biasanya', 'kalo', 'diguna', 'gitu', 'mau', 'berobat', 'medis', 'be'], ['dikkarafiansyah', 'dindamira', 'lu', 'divonis', 'penyakit', 'gj', 'dik'], ['afrina', 'amira', 'guys', 'minta', 'semua', 'adik', 'kawan', 'ain', 'natasya', 'tahun', 'menghidap', 'penyakit', 'scoliosis'], ['yaelah', 'yul', 'hobi', 'kok', 'cari', 'penyakit'], ['bts', 'twt', 'allah', 'sembuhkan', 'mamanya', 'bunda', 'lola', 'angkat', 'segala', 'penyakit', 'yg', 'tubuhnya', 'beri', 'um'], ['betul', 'bgt', 'sii', 'semogaa', 'aja', 'mamakku', 'cpt', 'angkat', 'penyakitnya', 'tahun', 'cukup', 'waktu', 'lama', 'mamak', 'tertiksa', 'sama', 'p'], ['nyawa', 'penting', 'ni', 'penyakit', 'berjangkit', 'melibatkan', 'semua', 'buat', 'masa', 'ni', 'muhasabah', 'diri', 'sem'], ['doakan', 'ayah', 'tak', 'penyakit', 'yg', 'serius'], ['afrina', 'amira', 'guys', 'minta', 'semua', 'adik', 'kawan', 'ain', 'natasya', 'tahun', 'menghidap', 'penyakit', 'scoliosis'], ['afrina', 'amira', 'guys', 'minta', 'semua', 'adik', 'kawan', 'ain', 'natasya', 'tahun', 'menghidap', 'penyakit', 'scoliosis'], ['qegabutan', 'titan', 'penyakit', 'ngga', 'sih'], ['kancoli', 'bawa', 'bawa', 'penyakit', 'jiwa', 'alasan', 'maksiat'], ['dyah', 'nezza', 'filek', 'penyakit', 'yg', 'trima', 'dngan', 'hati', 'yg', 'lapanglagian', 'kan', 'kopi'], ['afrina', 'amira', 'guys', 'minta', 'semua', 'adik', 'kawan', 'ain', 'natasya', 'tahun', 'menghidap', 'penyakit', 'scoliosis'], ['afrina', 'amira', 'guys', 'minta', 'semua', 'adik', 'kawan', 'ain', 'natasya', 'tahun', 'menghidap', 'penyakit', 'scoliosis'], ['erzavindaf', 'gimana', 'selingkuh', 'penyakit', 'bukankah', 'penyakit', 'sembuh', 'bila', 'ketemu', 'obat', 'pas', 'dahlah', 'gtaw'], ['dilantik', 'iyaa', 'duh', 'penyakit', 'hati', 'paling', 'bahaya'], ['faadelrey', 'ingat', 'ye', 'miro', 'ko', 'tu', 'berkahwin', 'zuriat', 'semoga', 'kau', 'dijauhkan', 'la', 'jodoh', 'penyakit', 'kelamin', 'an'], ['bts', 'twt', 'cepet', 'sembuh', 'buat', 'mamanya', 'ka', 'lola', 'diangkat', 'penyakit', 'sehat', 'sediakala', 'gbu', 'ka'], ['afrina', 'amira', 'guys', 'minta', 'semua', 'adik', 'kawan', 'ain', 'natasya', 'tahun', 'menghidap', 'penyakit', 'scoliosis'], ['hausofhilton', 'penyakit', 'smallpox', 'merupakan', 'sejenis', 'penyakit', 'berjangkit', 'bawaan', 'virus', 'cukup', 'berbahaya', 'merupakan', 'bukti', 'keja'], ['lyinn', 'seringkali', 'menangis', 'meminta', 'allah', 'mengangkat', 'penyakit', 'pernahkah', 'menangis', 'meminta', 'allah', 'm'], ['tahu', 'penyakit', 'obesitas', 'diabetes', 'hipertensi', 'meningkatkan', 'risiko', 'penyakit', 'jantung'], ['afrina', 'amira', 'guys', 'minta', 'semua', 'adik', 'kawan', 'ain', 'natasya', 'tahun', 'menghidap', 'penyakit', 'scoliosis'], [], ['afrina', 'amira', 'guys', 'minta', 'semua', 'adik', 'kawan', 'ain', 'natasya', 'tahun', 'menghidap', 'penyakit', 'scoliosis'], ['faadelrey', 'ingat', 'ye', 'miro', 'ko', 'tu', 'berkahwin', 'zuriat', 'semoga', 'kau', 'dijauhkan', 'la', 'jodoh', 'penyakit', 'kelamin', 'an'], ['afrina', 'amira', 'guys', 'minta', 'semua', 'adik', 'kawan', 'ain', 'natasya', 'tahun', 'menghidap', 'penyakit', 'scoliosis'], ['please', 'diriku', 'jangan', 'nyari', 'penyakit', 'aku', 'mohon'], ['hausofhilton', 'penyakit', 'smallpox', 'merupakan', 'sejenis', 'penyakit', 'berjangkit', 'bawaan', 'virus', 'cukup', 'berbahaya', 'merupakan', 'bukti', 'keja'], ['sandakantwt', 'hampir', 'hari', 'kematian', 'sandakan', 'sabah', 'am', 'semoga', 'team', 'abam', 'botak', 'dilindungi', 'bahaya', 'penyakit'], ['haziqaiman', 'cara', 'sebenarnya', 'stopkan', 'penyakit', 'kucing', 'macam', 'ni', 'jangan', 'dibiarkan', 'nampak'], ['hausofhilton', 'penyakit', 'smallpox', 'merupakan', 'sejenis', 'penyakit', 'berjangkit', 'bawaan', 'virus', 'cukup', 'berbahaya', 'merupakan', 'bukti', 'keja'], ['denial', 'tolol', 'banget', 'sih', 'brengsek', 'mah', 'brengsek', 'aja', 'jangan', 'bawa', 'bawa', 'penyakit', 'jiwa', 'lah', 'jelas', 'jelas', 'orangn'], ['hausofhilton', 'penyakit', 'smallpox', 'merupakan', 'sejenis', 'penyakit', 'berjangkit', 'bawaan', 'virus', 'cukup', 'berbahaya', 'merupakan', 'bukti', 'keja'], [], ['afrina', 'amira', 'guys', 'minta', 'semua', 'adik', 'kawan', 'ain', 'natasya', 'tahun', 'menghidap', 'penyakit', 'scoliosis'], ['afrina', 'amira', 'guys', 'minta', 'semua', 'adik', 'kawan', 'ain', 'natasya', 'tahun', 'menghidap', 'penyakit', 'scoliosis'], ['pemerkosaan', 'sesama', 'jenis', 'antar', 'anggota', 'tni', 'emang', 'salah', 'pelecehan', 'seksual', 'macam', 'apapun', 'salah', 'jadi'], ['ssseruni', 'sahabat', 'aku', 'positif', 'corona', 'plis', 'siapapun', 'positif', 'gejala', 'gejala', 'segera', 'diobati', 'segera', 'lakukan', 'tindakan', 'ga', 'usah', 'm'], ['afrina', 'amira', 'guys', 'minta', 'semua', 'adik', 'kawan', 'ain', 'natasya', 'tahun', 'menghidap', 'penyakit', 'scoliosis'], ['gstayupp', 'muliadilim', 'ngadepin', 'pasien', 'penyakit', 'kronis', 'emang', 'tricky', 'penyakit', 'seumur', 'hidup', 'obat', 'diet', 'seumu'], ['cewehijrah', 'penyakit', 'misalnya', 'pribadi', 'jangan', 'sakit', 'umum', 'pilek', 'batuk', 'demam', 'kalo'], ['namanya', 'penyakit', 'lelaki', 'semua', 'lelaki'], ['esok', 'daku', 'perlu', 'masuk', 'pejabat', 'bdr', 'diberikan', 'buat', 'punyai', 'keperluan', 'moga', 'allah', 'lindungi', 'se'], ['ketawaindulu', 'manusia', 'ga', 'pernah', 'ngerasa', 'puas', 'dikarenakan', 'lu', 'kurang', 'bersyukur', 'dikasih', 'yg', 'cantik', 'nyari', 'yg', 'lebih', 'cantik', 'selama'], ['sandakantwt', 'hampir', 'hari', 'kematian', 'sandakan', 'sabah', 'am', 'semoga', 'team', 'abam', 'botak', 'dilindungi', 'bahaya', 'penyakit'], ['afrina', 'amira', 'guys', 'minta', 'semua', 'adik', 'kawan', 'ain', 'natasya', 'tahun', 'menghidap', 'penyakit', 'scoliosis'], ['dikata', 'lgbt', 'penyakit', 'berak', 'lah', 'omongan', 'kek', 'paling', 'tau', 'internet', 'bahasan', 'ginian', 'udah', 'jaman', 'batu', 'dah', 'lewat', 'tokai', 'tolol'], ['bagaimana', 'cara', 'mencegah', 'penyakit', 'menular', 'ptm', 'cerdik', 'cegahptm', 'dukunggermas'], ['bruv', 'ternyata', 'gue', 'sakit', 'sakitan', 'banyak', 'pikiran', 'haha', 'never', 'know', 'banyak', 'pikiran', 'would', 'lead', 'to', 'so', 'many', 'penyakit', 'lol'], ['sherlydeftia', 'penting', 'bgt', 'kebanyakan', 'org', 'dgn', 'penyakit', 'kronis', 'spt', 'darah', 'tinggi', 'sakit', 'gula', 'kurang', 'memperhatikan', 'pola', 'makan', 'tid'], ['afrina', 'amira', 'guys', 'minta', 'semua', 'adik', 'kawan', 'ain', 'natasya', 'tahun', 'menghidap', 'penyakit', 'scoliosis'], ['afrina', 'amira', 'guys', 'minta', 'semua', 'adik', 'kawan', 'ain', 'natasya', 'tahun', 'menghidap', 'penyakit', 'scoliosis'], ['ingat', 'ye', 'miro', 'ko', 'tu', 'berkahwin', 'zuriat', 'semoga', 'kau', 'dijauhkan', 'la', 'jodoh', 'penyakit', 'kelami'], ['gimana', 'sumber', 'penyakit', 'nyembuhin', 'orang', 'yg', 'sakit'], ['afrina', 'amira', 'guys', 'minta', 'semua', 'adik', 'kawan', 'ain', 'natasya', 'tahun', 'menghidap', 'penyakit', 'scoliosis'], ['bagaimana', 'cara', 'mencegah', 'penyakit', 'menular', 'ptm', 'cerdik', 'cegahptm', 'dukunggermas'], ['afrina', 'amira', 'guys', 'minta', 'semua', 'adik', 'kawan', 'ain', 'natasya', 'tahun', 'menghidap', 'penyakit', 'scoliosis'], ['raikan', 'bulan', 'kesedaran', 'kanser', 'payudara', 'menjalankan', 'pemeriksaan', 'berkala', 'kerana', 'rawatan', 'awal', 'memungkinka'], ['afrina', 'amira', 'guys', 'minta', 'semua', 'adik', 'kawan', 'ain', 'natasya', 'tahun', 'menghidap', 'penyakit', 'scoliosis'], ['sandakantwt', 'hampir', 'hari', 'kematian', 'sandakan', 'sabah', 'am', 'semoga', 'team', 'abam', 'botak', 'dilindungi', 'bahaya', 'penyakit'], ['ivegotyu', 'txtdarionlshop', 'teman', 'teman', 'aku', 'minta', 'waktu', 'bantuan', 'saudara', 'aku', 'terkena', 'penyakit', 'leukimia', 'dimas'], [], ['nakhoda', 'pastikan', 'yg', 'terlibat', 'org', 'sarawak', 'ye', 'dr', 'sabah', 'semenanjung', 'jgn', 'nk', 'terlibat'], ['haziqaiman', 'cara', 'sebenarnya', 'stopkan', 'penyakit', 'kucing', 'macam', 'ni', 'jangan', 'dibiarkan', 'nampak'], ['lael', 'ophthal', 'kalau', 'orang', 'promosikan', 'ubat', 'titis', 'mata', 'ubat', 'makan', 'sembuhkan', 'penyakit', 'ni', 'rabun', 'katarak', 'glauk'], ['widyawantio', 'bayuxhitam', 'roker', 'biasane', 'penyakit', 'e', 'jantung'], ['org', 'klo', 'suka', 'ngutang', 'suka', 'lupa', 'penyakit'], ['afrina', 'amira', 'guys', 'minta', 'semua', 'adik', 'kawan', 'ain', 'natasya', 'tahun', 'menghidap', 'penyakit', 'scoliosis'], ['afrina', 'amira', 'guys', 'minta', 'semua', 'adik', 'kawan', 'ain', 'natasya', 'tahun', 'menghidap', 'penyakit', 'scoliosis'], ['aliffshanusi', 'senarai', 'penyakit', 'kritikal', 'dibenarkan', 'pengeluaran', 'kwsp', 'berikut', 'ialah', 'senarai', 'jenis', 'penyakit', 'kritikal'], ['ivegotyu', 'tubirfess', 'teman', 'teman', 'aku', 'minta', 'waktu', 'bantuan', 'saudara', 'aku', 'terkena', 'penyakit', 'leukimia', 'dimasa', 'pan'], ['nakhoda', 'pastikan', 'yg', 'terlibat', 'org', 'sarawak', 'ye', 'dr', 'sabah', 'semenanjung', 'jgn', 'nk', 'terlibat'], ['habis', 'makan', 'ngantuk', 'diem', 'ngantuk', 'nonton', 'tv', 'ngantuk', 'main', 'hp', 'ngantuk', 'dikit', 'dikit', 'ngantuk', 'dasar', 'penyakit'], [], ['kamu', 'penyakit', 'nih', 'penyakit', 'kantong'], ['ms', 'morninggstar', 'yangkusamyang', 'wkkw', 'mo', 'jawap', 'serius', 'mud', 'bath', 'bagus', 'bgt', 'buat', 'penyakit', 'kulit', 'ky', 'eczema', 'trs', 'ngilang'], ['ivegotyu', 'txtdarionlshop', 'teman', 'teman', 'aku', 'minta', 'waktu', 'bantuan', 'saudara', 'aku', 'terkena', 'penyakit', 'leukimia', 'dimas'], ['febrizarindu', 'penawarmood', 'yah', 'penyakit', 'apaan', 'we'], ['hausofhilton', 'sejak', 'vaksin', 'dijumpai', 'tahun', 'dipraktikkan', 'seluruh', 'dunia', 'sehinggalah', 'tahun', 'pertubuhan', 'kes'], ['jizhans', 'opini', 'orang', 'yg', 'punya', 'penyakit', 'gila'], ['ivegotyu', 'tubirfess', 'teman', 'teman', 'aku', 'minta', 'waktu', 'bantuan', 'saudara', 'aku', 'terkena', 'penyakit', 'leukimia', 'dimasa', 'pan'], ['hausofhilton', 'penyakit', 'smallpox', 'merupakan', 'sejenis', 'penyakit', 'berjangkit', 'bawaan', 'virus', 'cukup', 'berbahaya', 'merupakan', 'bukti', 'keja'], ['penyebaran', 'virus', 'terjadi', 'alur', 'cerita', 'the', 'scientist', 'salah', 'satu', 'seseorang', 'menyelama'], ['bts', 'twt', 'semoga', 'mamah', 'bunda', 'cepat', 'sembuh', 'semoga', 'cepat', 'diangkat', 'semua', 'penyakit', 'biar'], ['bts', 'twt', 'bismillah', 'lahaulawalaquwata', 'allah', 'berikan', 'mama', 'bunda', 'lola', 'kesehatan', 'selalu', 'cepat', 'a'], ['mantmeisje', 'ngakak', 'terus', 'ditanyain', 'sama', 'p', 'shone', 'kamu', 'kena', 'penyakit', 'kuning'], ['gubernur', 'ntb', 'bantu', 'sapri', 'pengidap', 'penyakit', 'komplikasi'], [], ['afrina', 'amira', 'guys', 'minta', 'semua', 'adik', 'kawan', 'ain', 'natasya', 'tahun', 'menghidap', 'penyakit', 'scoliosis'], [], ['penawarmood', 'dihirup', 'penyakit', 'bgo'], ['choirmahila', 'lekas', 'pulih', 'semoga', 'bukan', 'penyakit', 'lama', 'kambuh', 'semoga', 'ikhlas', 'biar', 'jadi', 'penambah', 'pahala'], ['kevinl', 'tan', 'herpes', 'genital', 'herpes', 'simplex', 'penyakit', 'menular', 'seksual', 'pria', 'wanita', 'yg', 'menyebabkan', 'luka', 'melepuh', 'diarea', 'kelamin'], ['athnara', 'bismillah', 'twitter', 'please', 'do', 'your', 'magic', 'aku', 'mau', 'open', 'donasi', 'kucing', 'jantanku', 'berumur', 'bulan', 'olap', 'terkena'], ['shvnfry', 'alinithia', 'dulu', 'mah', 'gangerti', 'kirain', 'penyakit', 'kayak', 'kanker', 'kan', 'trend', 'banget', 'dulu', 'kalau', 'sinetron'], ['ichwanewon', 'kadrun', 'masalah', 'gangguan', 'jiwa', 'amp', 'otak', 'bukan', 'model', 'fashion', 'bro', 'lu', 'gak', 'terpapar', 'penyakit', 'kadrun', 'kan'], ['carol', 'hadehh', 'penyakit', 'org', 'kaya'], ['adelladellaide', 'penyakit', 'langganan', 'muka', 'udah', 'mulusan', 'dikit', 'langsung', 'kecentilan', 'pengen', 'cobain', 'skincare', 'baru', 'padahal', 'sebelumnya', 'udah', 'ko'], ['kalau', 'top', 'tak', 'suka', 'pakai', 'kondom', 'settle', 'warming', 'lube', 'kondom', 'nipis', 'aku', 'mati', 'kutu', 'bila', 'botto'], ['sandakantwt', 'hampir', 'hari', 'kematian', 'sandakan', 'sabah', 'am', 'semoga', 'team', 'abam', 'botak', 'dilindungi', 'bahaya', 'penyakit'], [], ['kalau', 'top', 'tak', 'suka', 'pakai', 'kondom', 'settle', 'warming', 'lube', 'kondom', 'nipis', 'aku', 'mati', 'ku'], ['hausofhilton', 'penyakit', 'smallpox', 'merupakan', 'sejenis', 'penyakit', 'berjangkit', 'bawaan', 'virus', 'cukup', 'berbahaya', 'merupakan', 'bukti', 'keja'], ['haziqaiman', 'cara', 'sebenarnya', 'stopkan', 'penyakit', 'kucing', 'macam', 'ni', 'jangan', 'dibiarkan', 'nampak'], ['salah', 'satu', 'penyakit', 'timbul', 'akibat', 'kekurangan', 'air', 'aku', 'pas', 'sd', 'cegukan'], ['serotonin', 'teman', 'setia', 'mood', 'naik', 'turun', 'bebas', 'depresi', 'sembuh', 'berbagai', 'penyakit'], ['athnara', 'bismillah', 'twitter', 'please', 'do', 'your', 'magic', 'aku', 'mau', 'open', 'donasi', 'kucing', 'jantanku', 'berumur', 'bulan', 'olap', 'terkena'], ['kompascom', 'orang', 'mengira', 'covid', 'sakit', 'kata', 'influencer', 'fitness', 'mengingatkan', 'covid', 'buk'], ['sandakantwt', 'hampir', 'hari', 'kematian', 'sandakan', 'sabah', 'am', 'semoga', 'team', 'abam', 'botak', 'dilindungi', 'bahaya', 'penyakit'], ['suka', 'stalking', 'mantannya', 'pacar', 'siapa', 'aja', 'pakai', 'akun', 'palsu', 'penyakit', 'kok', 'dicari', 'sih', 'panas', 'sendiri', 'kan', 'jadinya', 'wkwk'], ['kevinl', 'tan', 'herpes', 'genital', 'herpes', 'simplex', 'penyakit', 'menular', 'seksual', 'pria', 'wanita', 'yg', 'menyebabkan', 'luka', 'melepuh', 'diarea', 'kelamin'], ['tokyutie', 'kan', 'asli', 'kata', 'bengek', 'tuh', 'buat', 'org', 'yg', 'ngalamin', 'penyakit', 'sesek', 'napas', 'nah', 'maksut', 'gue', 'gue', 'sesek', 'napas'], ['sugarrrushh', 'kamu', 'nyari', 'penyakit', 'aja'], ['afrina', 'amira', 'guys', 'minta', 'semua', 'adik', 'kawan', 'ain', 'natasya', 'tahun', 'menghidap', 'penyakit', 'scoliosis'], ['hausofhilton', 'penyakit', 'smallpox', 'merupakan', 'sejenis', 'penyakit', 'berjangkit', 'bawaan', 'virus', 'cukup', 'berbahaya', 'merupakan', 'bukti', 'keja'], ['sandakantwt', 'hampir', 'hari', 'kematian', 'sandakan', 'sabah', 'am', 'semoga', 'team', 'abam', 'botak', 'dilindungi', 'bahaya', 'penyakit'], [], ['tau', 'apa', 'ganasnya', 'penyakit', 'kanker', 'tau', 'apa', 'menderitanya', 'tau', 'semahal', 'apa', 'biaya', 'pengobatannya', 'd'], ['husninidhom', 'allah', 'perbaikilah', 'keadaan', 'mudahkanlah', 'urusan', 'sembuhkanlah', 'penyakit', 'lunaskanlah', 'hutang', 'hutang'], ['betul', 'selingkuh', 'tu', 'kayak', 'penyakit', 'kambuh', 'kapan', 'aja'], ['bungsu', 'bank', 'ipuuul', 'bangga', 'dgn', 'yg', 'spt', 'kok', 'lihat', 'aja', 'bentar', 'psikolo'], ['micaayu', 'penyakit', 'yg', 'susah', 'ilang'], ['aliffshanusi', 'senarai', 'penyakit', 'kritikal', 'dibenarkan', 'pengeluaran', 'kwsp', 'berikut', 'ialah', 'senarai', 'jenis', 'penyakit', 'kritikal'], ['afrina', 'amira', 'guys', 'minta', 'semua', 'adik', 'kawan', 'ain', 'natasya', 'tahun', 'menghidap', 'penyakit', 'scoliosis'], ['afrina', 'amira', 'guys', 'minta', 'semua', 'adik', 'kawan', 'ain', 'natasya', 'tahun', 'menghidap', 'penyakit', 'scoliosis'], ['littleukiyo', 's', 'p', 'a', 'c', 'e', 'b', 'a', 'r', 'taekook', 'au', 'penyakit', 'dyslexia', 'menghalangi', 'jeongguk', 'mengagumi', 'karya', 'tulis', 'taehyung', 'k'], ['afrina', 'amira', 'guys', 'minta', 'semua', 'adik', 'kawan', 'ain', 'natasya', 'tahun', 'menghidap', 'penyakit', 'scoliosis'], [], ['tau', 'ngga', 'petani', 'gimana', 'menanam', 'dgn', 'memilih', 'benih', 'paling', 'bagus', 'rawat', 'sirami', 'dikasih', 'pupuk'], ['ivegotyu', 'txtdarionlshop', 'teman', 'teman', 'aku', 'minta', 'waktu', 'bantuan', 'saudara', 'aku', 'terkena', 'penyakit', 'leukimia', 'dimas'], ['alhamdulillah', 'kalau', 'udah', 'membaik', 'bun', 'semoga', 'penyakit', 'mama', 'segera', 'angkat'], ['cewehijrah', 'penyakit', 'misalnya', 'pribadi', 'jangan', 'sakit', 'umum', 'pilek', 'batuk', 'demam', 'kalo'], ['asaibrahim', 'gaes', 'mngkin', 'seumur', 'hidup', 'kalian', 'ga', 'kena', 'sakit', 'jantung', 'stroke', 'diabetes', 'gagal', 'ginjal', 'usus', 'buntu', 'bahkan', 'mungkin'], ['afrina', 'amira', 'guys', 'minta', 'semua', 'adik', 'kawan', 'ain', 'natasya', 'tahun', 'menghidap', 'penyakit', 'scoliosis'], ['taejin', 'au', 'papier', 'seokjin', 'mempunya', 'penyakit', 'bucin', 'akut', 'selebgram', 'bernama', 'kim', 'taehyung', 'mencoba', 'ha'], ['bukan', 'hadeh', 'coba', 'cek', 'aja', 'penyakit', 'yg', 'sering', 'berair', 'tangannya'], ['heinanad', 'lekas', 'sembuh', 'segera', 'pulih', 'diangkat', 'penyakit', 'mama', 'mbak', 'nanad', 'aamiin'], ['nyai', 'kyungsoo', 'penyakit', 'exol', 'mulai', 'jam', 'mlm', 'jantung', 'pgn', 'copot', 'tangan', 'tremor', 'deg', 'an', 'ampe', 'pen', 'berak', 'kringet', 'dingin', 'tb'], [], ['jalanarsenal', 'setuju', 'om', 'nah', 'menjual', 'pemain', 'salah', 'satu', 'kesulitan', 'penyakit', 'arsenal', 'jg', 'om', 'semoga', 'edu', 'memperbaiki'], ['lionthecub', 'mungkin', 'rencana', 'mengabdi', 'dokter', 'umum', 'selama', 'beberapa', 'tahun', 'ambil', 'spesialis', 'penyakit'], ['hasnasalsabilap', 'minum', 'teh', 'anget', 'obat', 'sgala', 'penyakit'], ['bernamatv', 'katanya', 'akta', 'pencegahan', 'pengawalan', 'penyakit', 'berjangkit', 'akta', 'berkuat', 'kuasa', 'pkpp', 'dilaksanakan', 's'], ['gila', 'babi', 'lah', 'dpd', 'tahun', 'bila', 'ntah', 'dok', 'meminta', 'sedekah', 'pakai', 'alasan', 'cancer', 'stage', 'tuh', 'skg', 'bt', 'h'], [], ['afrina', 'amira', 'guys', 'minta', 'semua', 'adik', 'kawan', 'ain', 'natasya', 'tahun', 'menghidap', 'penyakit', 'scoliosis'], ['afrina', 'amira', 'guys', 'minta', 'semua', 'adik', 'kawan', 'ain', 'natasya', 'tahun', 'menghidap', 'penyakit', 'scoliosis'], ['fizzfarah', 'dghisham', 'sbb', 'org', 'yg', 'memang', 'dah', 'penyakit', 'tersebut', 'mempunyai', 'sistem', 'imun', 'yg', 'lemah', 'cth', 'diabetes', 'mer'], ['afrina', 'amira', 'guys', 'minta', 'semua', 'adik', 'kawan', 'ain', 'natasya', 'tahun', 'menghidap', 'penyakit', 'scoliosis'], ['emangnya', 'aku', 'penyakit', 'nular', 'nular'], ['afrina', 'amira', 'guys', 'minta', 'semua', 'adik', 'kawan', 'ain', 'natasya', 'tahun', 'menghidap', 'penyakit', 'scoliosis'], ['afrina', 'amira', 'guys', 'minta', 'semua', 'adik', 'kawan', 'ain', 'natasya', 'tahun', 'menghidap', 'penyakit', 'scoliosis'], ['hausofhilton', 'penyakit', 'smallpox', 'merupakan', 'sejenis', 'penyakit', 'berjangkit', 'bawaan', 'virus', 'cukup', 'berbahaya', 'merupakan', 'bukti', 'keja'], ['aitykaa', 'ayidmazlan', 'berat', 'badan', 'naik', 'sekali', 'dgn', 'penyakit', 'dpt'], ['aleppppppppp', 'cerita', 'pasal', 'sex', 'life', 'beromen', 'hidup', 'berpaksikan', 'seks', 'im', 'so', 'done', 'hadap', 'tweet', 'kau', 'beromen', 'beromen', 'b'], ['dghisham', 'org', 'pakar', 'perubatan', 'kesihatan', 'awam', 'dr', 'semenanjung', 'dimobilisasi', 'sabah', 'pd', 'awal', 'pagi', 'tadi', 'bertugas', 'bahagia'], ['emg', 'cari', 'penyakit', 'jam', 'sgni', 'baru', 'makan'], ['nininell', 'sedekah', 'rakyat', 'bayar', 'gaji', 'dinosaur', 'rakyat', 'rakyat', 'penyakit', 'hilang', 'kerja', 'bisnes', 'gulung', 'tikar'], ['penyakit', 'dulu', 'kalo', 'laper', 'pusing', 'wkwk'], ['yaelahcan', 'jadi', 'elu', 'yg', 'miskin', 'tp', 'kaga', 'duitnya', 'penyakit', 'cari', 'wkwwkksksks'], ['ivegotyu', 'txtdarionlshop', 'teman', 'teman', 'aku', 'minta', 'waktu', 'bantuan', 'saudara', 'aku', 'terkena', 'penyakit', 'leukimia', 'dimas'], ['sandakantwt', 'hampir', 'hari', 'kematian', 'sandakan', 'sabah', 'am', 'semoga', 'team', 'abam', 'botak', 'dilindungi', 'bahaya', 'penyakit'], ['afrina', 'amira', 'guys', 'minta', 'semua', 'adik', 'kawan', 'ain', 'natasya', 'tahun', 'menghidap', 'penyakit', 'scoliosis'], ['afrina', 'amira', 'guys', 'minta', 'semua', 'adik', 'kawan', 'ain', 'natasya', 'tahun', 'menghidap', 'penyakit', 'scoliosis'], ['winterwoodys', 'bunnysmile', 'semuagajelas', 'feel', 'you', 'nder', 'mending', 'tugas', 'tulis', 'se', 'abrek', 'vid', 'rada', 'ngeri'], ['kevinl', 'tan', 'herpes', 'genital', 'herpes', 'simplex', 'penyakit', 'menular', 'seksual', 'pria', 'wanita', 'yg', 'menyebabkan', 'luka', 'melepuh', 'diarea', 'kelamin'], ['yg', 'dpt', 'penyakit', 'kucing', 'aku', 'jugak', 'aku', 'pecahkan', 'tingkap', 'rumah', 'dah', 'kena', 'esok', 'baru', 'tahu'], ['uttazt', 'wkwk', 'bener', 'sih', 'penderita', 'penyakit', 'lambung', 'kalo', 'stress', 'kumat', 'nyiksa'], ['superbdeee', 'jgn', 'kata', 'kucing', 'manusia', 'pon', 'kalau', 'obese', 'tggu', 'masa', 'je', 'utk', 'dpt', 'penyakit', 'geram', 'sbb', 'baca', 'this', 'post', 'share'], ['hafidzalattas', 'fassobrun', 'jamil', 'artinya', 'kesabaran', 'yg', 'baik', 'sabarnya', 'nabi', 'yaqub', 'kehilangan', 'yusuf', 'kesabaran', 'nabi', 'ayyub', 'kena', 'penyak'], ['kayaknya', 'penyakit', 'gue', 'kambhh', 'deh', 'dri', 'tadi', 'eneg', 'bgtt', 'gaada', 'yg', 'dikeluarin'], ['athnara', 'bismillah', 'twitter', 'please', 'do', 'your', 'magic', 'aku', 'mau', 'open', 'donasi', 'kucing', 'jantanku', 'berumur', 'bulan', 'olap', 'terkena'], ['dzarzain', 'pandemi', 'covid', 'menjadi', 'momentum', 'refleksi', 'sejauh', 'mana', 'resiliensi', 'peradaban', 'manusia', 'menanggulangi', 'sebuah'], ['ms', 'morninggstar', 'yangkusamyang', 'wkkw', 'mo', 'jawap', 'serius', 'mud', 'bath', 'bagus', 'bgt', 'buat', 'penyakit', 'kulit', 'ky', 'eczema', 'trs', 'ngilang'], ['al', 'lama', 'wanita', 'sakit', 'diapun', 'tahu', 'kejelasannya', 'pertma', 'kalinya', 'wanita', 'datang', 'tempat', 'd'], ['sandakantwt', 'hampir', 'hari', 'kematian', 'sandakan', 'sabah', 'am', 'semoga', 'team', 'abam', 'botak', 'dilindungi', 'bahaya', 'penyakit'], ['asaibrahim', 'gaes', 'mngkin', 'seumur', 'hidup', 'kalian', 'ga', 'kena', 'sakit', 'jantung', 'stroke', 'diabetes', 'gagal', 'ginjal', 'usus', 'buntu', 'bahkan', 'mungkin'], ['buah', 'delima', 'sangat', 'baik', 'kesehatan', 'salah', 'satunya', 'mencegah', 'penyakit', 'jantung', 'mantra', 'sukabumi', 'pikiran'], ['afrina', 'amira', 'guys', 'minta', 'semua', 'adik', 'kawan', 'ain', 'natasya', 'tahun', 'menghidap', 'penyakit', 'scoliosis'], [], ['sering', 'bilang', 'insom', 'padahal', 'penyakit', 'amp', 'diagnosa', 'dulu', 'baru', 'klaim', 'diri', 'insom', 'engg'], ['wahhh', 'gila', 'gila', 'gue', 'banget', 'emg', 'dah', 'kerjaan', 'cancer', 'bikin', 'penyakit', 'aja', 'ah', 'maklum', 'sis', 'kan', 'capricorn', 'suka'], ['ureung', 'aceh', 'diwarisi', 'tradisi', 'pencegahan', 'dini', 'wabah', 'penyakit', 'sayangnya', 'banyak', 'orang'], ['seronok', 'noh', 'sembang', 'orang', 'tua', 'tua', 'ni', 'sekali', 'sebut', 'penyakit', 'la', 'ni', 'bahaya', 'laa', 'dik', 'oi', 'kobis', 'tin', 'co'], ['penyakit', 'yg', 'susah', 'bgt', 'buat', 'gua', 'ilangin', 'fastresp'], ['al', 'lama', 'wanita', 'sakit', 'diapun', 'tahu', 'kejelasannya', 'pertma', 'kalinya', 'wanita', 'datang', 'tempat', 'd'], ['penyakit', 'hati', 'ustadz', 'dr', 'syafiq', 'riza', 'basalamah', 'ma', 'via', 'youtube'], ['kemampuan', 'tubuh', 'melawan', 'infeksi', 'penyakit', 'fungsi', 'sistem', 'imun', 'kekebalan', 'tubuh', 'lalu', 'apa', 'm'], ['udh', 'almh', 'yg', 'dr', 'ibu', 'udh', 'sering', 'nyakitin', 'nyakitin', 'dr', 'perkataan', 'aku', 'tau', 'org', 'pernah', 'buat', 'org', 'sak'], ['siapa', 'suruh', 'seharian', 'ga', 'makan', 'nasi', 'malah', 'bikin', 'mie', 'rebus', 'pedes', 'emg', 'nyari', 'penyakit', 'tp', 'ena', 'gimana', 'dong'], ['nnylekit', 'tidaklah', 'allah', 'menurunkan', 'suatu', 'penyakit', 'menurunkan', 'obat', 'penyakit', 'tersebut', 'hr', 'bukhari'], ['afrina', 'amira', 'guys', 'minta', 'semua', 'adik', 'kawan', 'ain', 'natasya', 'tahun', 'menghidap', 'penyakit', 'scoliosis'], ['kalo', 'nyampe', 'rumah', 'bawaan', 'lemes', 'pening', 'meriang', 'coba', 'diajak', 'main', 'langsung', 'sehat', 'wal', 'afiat', 'allah', 'penyakit', 'apayaa'], ['yg', 'legal', 'amp', 'menggap', 'baik', 'kesehatan', 'beberapa', 'penyakit', 'lu', 'suka', 'ama', 'seseorg', 'mungkin', 'beranggapan', 'k'], ['askep', 'anjeng', 'kasus', 'penyakit', 'anjeng', 'intervensi', 'kep', 'anjeng', 'evidence', 'based', 'practice', 'anjeng', 'analisa', 'jurnal', 'anjeng'], ['ivegotyu', 'txtdarionlshop', 'teman', 'teman', 'aku', 'minta', 'waktu', 'bantuan', 'saudara', 'aku', 'terkena', 'penyakit', 'leukimia', 'dimas'], ['jahat', 'wabah', 'penyakit'], ['afrina', 'amira', 'guys', 'minta', 'semua', 'adik', 'kawan', 'ain', 'natasya', 'tahun', 'menghidap', 'penyakit', 'scoliosis'], ['kangen', 'bukan', 'siapa', 'siapa', 'tau', 'apa', 'penyakit', 'baru', 'hha'], ['kevinl', 'tan', 'herpes', 'genital', 'herpes', 'simplex', 'penyakit', 'menular', 'seksual', 'pria', 'wanita', 'yg', 'menyebabkan', 'luka', 'melepuh', 'diarea', 'kelamin'], ['sazhimi', 'berikut', 'bbrp', 'penyakit', 'yg', 'dihilangkan', 'dihindari', 'mengharap', 'balas', 'memberi', 'merasa', 'terus', 'dihargai'], ['antibuzzerp', 'al', 'wahn', 'adlh', 'penyakit', 'jiwa', 'yg', 'ditandai', 'dgn', 'cinta', 'dunia', 'amp', 'takut', 'mati', 'penyakit', 'biasanya', 'mengendap', 'jiwa', 'yg'], ['haziqaiman', 'cara', 'sebenarnya', 'stopkan', 'penyakit', 'kucing', 'macam', 'ni', 'jangan', 'dibiarkan', 'nampak'], ['wayaewes', 'tidaklah', 'allah', 'menurunkan', 'suatu', 'penyakit', 'menurunkan', 'obat', 'penyakit', 'tersebut', 'hr', 'bukhari', 'allahbe'], ['afrina', 'amira', 'guys', 'minta', 'semua', 'adik', 'kawan', 'ain', 'natasya', 'tahun', 'menghidap', 'penyakit', 'scoliosis'], ['hausofhilton', 'penyakit', 'smallpox', 'merupakan', 'sejenis', 'penyakit', 'berjangkit', 'bawaan', 'virus', 'cukup', 'berbahaya', 'merupakan', 'bukti', 'keja'], ['afrina', 'amira', 'guys', 'minta', 'semua', 'adik', 'kawan', 'ain', 'natasya', 'tahun', 'menghidap', 'penyakit', 'scoliosis'], ['athnara', 'bismillah', 'twitter', 'please', 'do', 'your', 'magic', 'aku', 'mau', 'open', 'donasi', 'kucing', 'jantanku', 'berumur', 'bulan', 'olap', 'terkena'], ['hausofhilton', 'penyakit', 'smallpox', 'merupakan', 'sejenis', 'penyakit', 'berjangkit', 'bawaan', 'virus', 'cukup', 'berbahaya', 'merupakan', 'bukti', 'keja'], ['munfess', 'kalo', 'kata', 'mamaku', 'enggak', 'usah', 'nyari', 'nyari', 'penyakit', 'dah'], ['indjayaofficial', 'fiersabesari', 'penyakit', 'hari', 'minggu'], ['fiersabesari', 'penyakit', 'hari', 'minggu'], ['asaibrahim', 'gaes', 'mngkin', 'seumur', 'hidup', 'kalian', 'ga', 'kena', 'sakit', 'jantung', 'stroke', 'diabetes', 'gagal', 'ginjal', 'usus', 'buntu', 'bahkan', 'mungkin'], ['bagaimana', 'cara', 'mencegah', 'penyakit', 'menular', 'ptm', 'cerdik', 'cegahptm', 'dukunggermas'], ['dickyfadillahh', 'twitter', 'plz', 'do', 'your', 'magic', 'halo', 'semuanya', 'perkenalkan', 'molly', 'berumur', 'tahun', 'bulan', 'didiagnosa', 'ol'], ['lifewith', 'sunnah', 'akhawat', 'jaman', 'skrg', 'suka', 'keluar', 'rumah', 'kebutuhan', 'nongkrong', 'dicafe', 'mall', 'penyakit', 'suka', 'kelu'], [], ['raikan', 'bulan', 'kesedaran', 'kanser', 'payudara', 'menjalankan', 'pemeriksaan', 'berkala', 'kerana', 'rawatan', 'awal', 'memungkinka'], ['ivegotyu', 'rahasiabulan', 'teman', 'teman', 'aku', 'minta', 'waktu', 'bantuan', 'saudara', 'aku', 'terkena', 'penyakit', 'leukimia', 'dimasa'], ['asaibrahim', 'gaes', 'mngkin', 'seumur', 'hidup', 'kalian', 'ga', 'kena', 'sakit', 'jantung', 'stroke', 'diabetes', 'gagal', 'ginjal', 'usus', 'buntu', 'bahkan', 'mungkin'], ['asaibrahim', 'gaes', 'mngkin', 'seumur', 'hidup', 'kalian', 'ga', 'kena', 'sakit', 'jantung', 'stroke', 'diabetes', 'gagal', 'ginjal', 'usus', 'buntu', 'bahkan', 'mungkin'], ['nakhoda', 'pastikan', 'yg', 'terlibat', 'org', 'sarawak', 'ye', 'dr', 'sabah', 'semenanjung', 'jgn', 'nk', 'terlibat'], ['hausofhilton', 'penyakit', 'smallpox', 'merupakan', 'sejenis', 'penyakit', 'berjangkit', 'bawaan', 'virus', 'cukup', 'berbahaya', 'merupakan', 'bukti', 'keja'], ['afrina', 'amira', 'guys', 'minta', 'semua', 'adik', 'kawan', 'ain', 'natasya', 'tahun', 'menghidap', 'penyakit', 'scoliosis'], ['sumpah', 'yah', 'aku', 'pnya', 'penyakit', 'kalo', 'hbis', 'makan', 'jadi', 'kenyang'], ['afrina', 'amira', 'guys', 'minta', 'semua', 'adik', 'kawan', 'ain', 'natasya', 'tahun', 'menghidap', 'penyakit', 'scoliosis'], ['afrina', 'amira', 'guys', 'minta', 'semua', 'adik', 'kawan', 'ain', 'natasya', 'tahun', 'menghidap', 'penyakit', 'scoliosis'], ['hausofhilton', 'penyakit', 'smallpox', 'merupakan', 'sejenis', 'penyakit', 'berjangkit', 'bawaan', 'virus', 'cukup', 'berbahaya', 'merupakan', 'bukti', 'keja'], ['nagotejena', 'playing', 'victim', 'merasa', 'dirinya', 'paling', 'menderita', 'lalu', 'merasa', 'berhak', 'berbuat', 'buruk', 'menyakiti', 'orang'], ['hausofhilton', 'penyakit', 'smallpox', 'merupakan', 'sejenis', 'penyakit', 'berjangkit', 'bawaan', 'virus', 'cukup', 'berbahaya', 'merupakan', 'bukti', 'keja'], ['husninidhom', 'allah', 'perbaikilah', 'keadaan', 'mudahkanlah', 'urusan', 'sembuhkanlah', 'penyakit', 'lunaskanlah', 'hutang', 'hutang'], ['aku', 'suka', 'banget', 'nyari', 'penyakit', 'hati'], ['aliffshanusi', 'senarai', 'penyakit', 'kritikal', 'dibenarkan', 'pengeluaran', 'kwsp', 'berikut', 'ialah', 'senarai', 'jenis', 'penyakit', 'kritikal'], ['afrina', 'amira', 'guys', 'minta', 'semua', 'adik', 'kawan', 'ain', 'natasya', 'tahun', 'menghidap', 'penyakit', 'scoliosis'], ['nahkan', 'rasa', 'balik', 'nanaaaa', 'gimana', 'gue', 'liat', 'lu', 'lebih', 'penyakit', 'gue', 'kambuh', 'naa', 'jangan', 'gini'], ['kevinl', 'tan', 'herpes', 'genital', 'herpes', 'simplex', 'penyakit', 'menular', 'seksual', 'pria', 'wanita', 'yg', 'menyebabkan', 'luka', 'melepuh', 'diarea', 'kelamin'], ['asaibrahim', 'gaes', 'mngkin', 'seumur', 'hidup', 'kalian', 'ga', 'kena', 'sakit', 'jantung', 'stroke', 'diabetes', 'gagal', 'ginjal', 'usus', 'buntu', 'bahkan', 'mungkin'], ['hausofhilton', 'penyakit', 'smallpox', 'merupakan', 'sejenis', 'penyakit', 'berjangkit', 'bawaan', 'virus', 'cukup', 'berbahaya', 'merupakan', 'bukti', 'keja'], ['athnara', 'bismillah', 'twitter', 'please', 'do', 'your', 'magic', 'aku', 'mau', 'open', 'donasi', 'kucing', 'jantanku', 'berumur', 'bulan', 'olap', 'terkena'], ['just', 'imam', 'al', 'ghazali', 'menyebut', 'zikirlah', 'hayyu', 'qayyum', 'wahai', 'tuhan', 'maha', 'hidup', 'dgn', 'sendirin'], ['twitter', 'plz', 'do', 'your', 'magic', 'halo', 'semuanya', 'perkenalkan', 'molly', 'berumur', 'tahun', 'bulan', 'didiagnos'], ['eddiehasbullah', 'ujian', 'wabak', 'penyakit', 'kematian', 'orang', 'mampu', 'menginsafkan', 'bersikap', 'y'], ['diabetes', 'merupakan', 'penyakit', 'kronis', 'menyerang', 'berbagai', 'fungsi', 'organ', 'kenali', 'gejalanya', 'terlambat', 'untu'], ['xoxoag', 'parijace', 'jaman', 'gw', 'bocah', 'jadi', 'obat', 'segala', 'penyakit', 'rumah'], ['detikcom', 'terbalaskan', 'sayang', 'alasannya', 'sesak', 'sih', 'yg', 'kek', 'yg', 'kerenan', 'dikit', 'kayak', 'penyakit', 'jantung', 'gitu'], ['afrina', 'amira', 'guys', 'minta', 'semua', 'adik', 'kawan', 'ain', 'natasya', 'tahun', 'menghidap', 'penyakit', 'scoliosis'], ['hausofhilton', 'sejak', 'vaksin', 'dijumpai', 'tahun', 'dipraktikkan', 'seluruh', 'dunia', 'sehinggalah', 'tahun', 'pertubuhan', 'kes'], ['menikmati', 'roti', 'vintage', 'musik', 'vintage', 'penyakit', 'vintage', 'asam', 'urat', 'kambuh'], ['menjadikan', 'semua', 'petugas', 'barisan', 'hadapan', 'terpaksa', 'bertugas', 'lebih', 'masa', 'mengurus', 'merawat', 'menghida'], ['ibaaaa', 'aaminn', 'allah', 'semoga', 'puan', 'sekeluarga', 'allah', 'lindungi', 'penyakit'], ['normalnya', 'sperma', 'memiliki', 'bau', 'mirip', 'klorin', 'banyak', 'faktor', 'mempengaruhi', 'variasi', 'baunya', 'termasuk', 'kon'], ['husninidhom', 'buat', 'pernah', 'patah', 'hati', 'satupun', 'obat', 'menyembuhkan', 'penyakit', 'hati', 'keikhlasan'], ['afrina', 'amira', 'guys', 'minta', 'semua', 'adik', 'kawan', 'ain', 'natasya', 'tahun', 'menghidap', 'penyakit', 'scoliosis'], ['unsfess', 'semoga', 'penyakit', 'yg', 'orang', 'tua', 'm', 'segera', 'diangkat', 'allah', 'swt', 'aamiin', 'semangaattt', 'yaaa', 'ndeerr'], ['kesian', 'plak', 'tgk', 'kwn', 'yg', 'pegnen', 'kena', 'cntrl', 'mkn', 'die', 'sbb', 'takut', 'gula', 'naik', 'if', 'naik', 'bahaya', 'utk', 'baby', 'pastu', 'teringat', 'kat'], ['athnara', 'bismillah', 'twitter', 'please', 'do', 'your', 'magic', 'aku', 'mau', 'open', 'donasi', 'kucing', 'jantanku', 'berumur', 'bulan', 'olap', 'terkena'], ['kevinl', 'tan', 'herpes', 'genital', 'herpes', 'simplex', 'penyakit', 'menular', 'seksual', 'pria', 'wanita', 'yg', 'menyebabkan', 'luka', 'melepuh', 'diarea', 'kelamin'], ['ngindonesia', 'peneliti', 'menemukan', 'fakta', 'tanda', 'awal', 'penyakit', 'alzheimer', 'berkaitan', 'pikiran', 'negatif', 'berulang', 'i'], ['sakit', 'penyakit', 'mybe', 'kau', 'uruskan', 'tk', 'tua', 'tp', 'kemalangan', 'ni', 'tkde', 'siapa', 'jangka', 'tips', 'nk', 'beli', 'insuran'], ['afrina', 'amira', 'guys', 'minta', 'semua', 'adik', 'kawan', 'ain', 'natasya', 'tahun', 'menghidap', 'penyakit', 'scoliosis'], ['lilnabbx', 'penyakit', 'iri', 'buang', 'dmn', 'ditong', 'sampah'], ['afrina', 'amira', 'guys', 'minta', 'semua', 'adik', 'kawan', 'ain', 'natasya', 'tahun', 'menghidap', 'penyakit', 'scoliosis'], ['ivegotyu', 'txtdarionlshop', 'teman', 'teman', 'aku', 'minta', 'waktu', 'bantuan', 'saudara', 'aku', 'terkena', 'penyakit', 'leukimia', 'dimas'], [], ['altairjace', 'virus', 'mematikan', 'penyakit', 'tu', 'tolol', 'bgt', 'najiss', 'najiss'], ['athnara', 'bismillah', 'twitter', 'please', 'do', 'your', 'magic', 'aku', 'mau', 'open', 'donasi', 'kucing', 'jantanku', 'berumur', 'bulan', 'olap', 'terkena'], ['hausofhilton', 'penyakit', 'smallpox', 'merupakan', 'sejenis', 'penyakit', 'berjangkit', 'bawaan', 'virus', 'cukup', 'berbahaya', 'merupakan', 'bukti', 'keja'], ['kesel', 'bangett', 'sampe', 'jadi', 'penyakit', 'hati'], ['tahukah', 'kamu', 'tidur', 'larut', 'malam', 'mengakibatkan', 'penyakit', 'berbahaya', 'kesiangan'], ['kijanghijiganti', 'nambahin', 'penyakit', 'hati', 'doang', 'om'], ['sandakantwt', 'hampir', 'hari', 'kematian', 'sandakan', 'sabah', 'am', 'semoga', 'team', 'abam', 'botak', 'dilindungi', 'bahaya', 'penyakit'], ['hausofhilton', 'penyakit', 'smallpox', 'merupakan', 'sejenis', 'penyakit', 'berjangkit', 'bawaan', 'virus', 'cukup', 'berbahaya', 'merupakan', 'bukti', 'keja'], ['raikan', 'bulan', 'kesedaran', 'kanser', 'payudara', 'menjalankan', 'pemeriksaan', 'berkala', 'kerana', 'rawatan', 'awal', 'memungkinka'], ['kevinl', 'tan', 'herpes', 'genital', 'herpes', 'simplex', 'penyakit', 'menular', 'seksual', 'pria', 'wanita', 'yg', 'menyebabkan', 'luka', 'melepuh', 'diarea', 'kelamin'], ['annakelanaa', 'doakan', 'ibu', 'ayh', 'cpt', 'sembuh', 'drp', 'penyakit', 'covid', 'harini', 'dh', 'keluar', 'swab', 'test', 'result', 'ibu', 'je', 'kene', 'positive', 'a'], ['afrina', 'amira', 'guys', 'minta', 'semua', 'adik', 'kawan', 'ain', 'natasya', 'tahun', 'menghidap', 'penyakit', 'scoliosis'], ['ikhlas', 'berserah', 'kehendak', 'tuhan', 'obat', 'terbaik', 'semua', 'penyakit', 'hati'], ['kevinl', 'tan', 'herpes', 'genital', 'herpes', 'simplex', 'penyakit', 'menular', 'seksual', 'pria', 'wanita', 'yg', 'menyebabkan', 'luka', 'melepuh', 'diarea', 'kelamin'], ['ustazahasma', 'doa', 'kikis', 'sifat', 'lemah', 'semangat', 'mudah', 'sentap', 'malas', 'penyedih', 'penakut', 'bakhil', 'kedekut', 'bebanan', 'hutang', 'kezaliman'], ['hausofhilton', 'sekali', 'biasanya', 'virus', 'varicella', 'zoster', 'berhibernasi', 'pusat', 'saraf', 'tunjang', 'sesetengah', 'ora'], ['afrina', 'amira', 'guys', 'minta', 'semua', 'adik', 'kawan', 'ain', 'natasya', 'tahun', 'menghidap', 'penyakit', 'scoliosis'], ['detikhealth', 'diabetes', 'merupakan', 'penyakit', 'kronis', 'menyerang', 'berbagai', 'fungsi', 'organ', 'kenali', 'gejalanya', 'terlambat', 'berob'], ['hausofhilton', 'sejak', 'vaksin', 'dijumpai', 'tahun', 'dipraktikkan', 'seluruh', 'dunia', 'sehinggalah', 'tahun', 'pertubuhan', 'kes'], ['nininell', 'sedekah', 'rakyat', 'bayar', 'gaji', 'dinosaur', 'rakyat', 'rakyat', 'penyakit', 'hilang', 'kerja', 'bisnes', 'gulung', 'tikar'], ['nginget', 'dn', 'ngarep', 'lbih', 'manusia', 'emg', 'bkin', 'penyakit', 'ayo', 'suwan', 'bngkit'], ['afrina', 'amira', 'guys', 'minta', 'semua', 'adik', 'kawan', 'ain', 'natasya', 'tahun', 'menghidap', 'penyakit', 'scoliosis'], ['jadi', 'ingat', 'teh', 'kamu', 'kaya', 'punya', 'penyakit', 'kuning', 'ujar', 'ayahku', 'aku', 'keluar', 'toilet', 'sehabis', 'mandi'], ['cari', 'penyakit', 'sendiri', 'susah', 'sendiri', 'mamam', 'po'], ['antibody', 'perang', 'nih', 'sama', 'penyakit'], ['mgclthumbelina', 'yahmhyst', 'ygprdny', 'selama', 'party', 'cacingan', 'macem', 'kesurupan', 'gaberasa', 'kelar', 'g'], ['ivegotyu', 'poirotto', 'teman', 'teman', 'aku', 'minta', 'waktu', 'bantuan', 'saudara', 'aku', 'terkena', 'penyakit', 'leukimia', 'dimasa', 'pand'], ['afrina', 'amira', 'guys', 'minta', 'semua', 'adik', 'kawan', 'ain', 'natasya', 'tahun', 'menghidap', 'penyakit', 'scoliosis'], ['ivegotyu', 'txtdarionlshop', 'teman', 'teman', 'aku', 'minta', 'waktu', 'bantuan', 'saudara', 'aku', 'terkena', 'penyakit', 'leukimia', 'dimas'], ['husninidhom', 'allah', 'perbaikilah', 'keadaan', 'mudahkanlah', 'urusan', 'sembuhkanlah', 'penyakit', 'lunaskanlah', 'hutang', 'hutang'], ['afrina', 'amira', 'guys', 'minta', 'semua', 'adik', 'kawan', 'ain', 'natasya', 'tahun', 'menghidap', 'penyakit', 'scoliosis'], ['sendysekar', 'penyakit', 'korban', 'perasaan'], ['asaibrahim', 'gaes', 'mngkin', 'seumur', 'hidup', 'kalian', 'ga', 'kena', 'sakit', 'jantung', 'stroke', 'diabetes', 'gagal', 'ginjal', 'usus', 'buntu', 'bahkan', 'mungkin'], ['namanya', 'jg', 'penyakit', 'baru', 'justru', 'ga', 'gejala', 'jd', 'bikin', 'bahaya', 'krn', 'lu', 'ngerasa', 'sehat', 'tp', 'n'], ['hausofhilton', 'penyakit', 'smallpox', 'merupakan', 'sejenis', 'penyakit', 'berjangkit', 'bawaan', 'virus', 'cukup', 'berbahaya', 'merupakan', 'bukti', 'keja'], ['tanda', 'gejala', 'hipotensi', 'penyakit'], ['kevinl', 'tan', 'herpes', 'genital', 'herpes', 'simplex', 'penyakit', 'menular', 'seksual', 'pria', 'wanita', 'yg', 'menyebabkan', 'luka', 'melepuh', 'diarea', 'kelamin'], ['sandakantwt', 'hampir', 'hari', 'kematian', 'sandakan', 'sabah', 'am', 'semoga', 'team', 'abam', 'botak', 'dilindungi', 'bahaya', 'penyakit'], ['penyakit', 'hari', 'minggu', 'kambuh', 'dah'], ['amrmkri', 'almari', 'wan', 'syaza', 'cannot', 'relate', 'kakakakakkak', 'je', 'terus', 'xde', 'baju', 'nak', 'pakai', 'penyakit', 'betullll'], ['afrina', 'amira', 'guys', 'minta', 'semua', 'adik', 'kawan', 'ain', 'natasya', 'tahun', 'menghidap', 'penyakit', 'scoliosis'], ['nurhusnasani', 'anyone', 'dekat', 'kuantan', 'pekan', 'kalau', 'nampak', 'kuih', 'keropok', 'botol', 'ni', 'beli', 'la', 'banyak', 'banyak', 'ni', 'adik', 'haiqal', 'buat', 'mak'], ['disebabkan', 'penyakit', 'semua', 'orang', 'tak', 'percaya', 'sesiapa'], ['waduh', 'kok', 'kepikiran', 'kalo', 'covid', 'tuh', 'ceritanya', 'mirip', 'sama', 'penyakit', 'siput', 'gila', 'gary', 'gerangan'], ['afrina', 'amira', 'guys', 'minta', 'semua', 'adik', 'kawan', 'ain', 'natasya', 'tahun', 'menghidap', 'penyakit', 'scoliosis'], ['ivegotyu', 'txtdarionlshop', 'teman', 'teman', 'aku', 'minta', 'waktu', 'bantuan', 'saudara', 'aku', 'terkena', 'penyakit', 'leukimia', 'dimas'], ['afrina', 'amira', 'guys', 'minta', 'semua', 'adik', 'kawan', 'ain', 'natasya', 'tahun', 'menghidap', 'penyakit', 'scoliosis'], ['afrina', 'amira', 'guys', 'minta', 'semua', 'adik', 'kawan', 'ain', 'natasya', 'tahun', 'menghidap', 'penyakit', 'scoliosis'], ['seterahgualahh', 'emang', 'penyakit', 'apa', 'gan', 'kalo', 'tau'], ['afrina', 'amira', 'guys', 'minta', 'semua', 'adik', 'kawan', 'ain', 'natasya', 'tahun', 'menghidap', 'penyakit', 'scoliosis'], ['tak', 'pergi', 'marah', 'anak', 'jiran', 'petang', 'tadi', 'patut', 'snap', 'gambar', 'aku', 'tak', 'pakai', 'baju', 'masa', 'aku', 'tengah', 'alih'], ['penyakit', 'posesif', 'overthinkin', 'mak', 'gw', 'kambuh', 'njir', 'wkwk'], ['dghisham', 'doktor', 'hisham', 'i', 'have', 'a', 'question', 'kematian', 'covid', 'kaitan', 'jatung', 'kencing', 'manis', 'sebg'], ['ivegotyu', 'rahasiabulan', 'teman', 'teman', 'aku', 'minta', 'waktu', 'bantuan', 'saudara', 'aku', 'terkena', 'penyakit', 'leukimia', 'dimasa'], ['mantan', 'awkarin', 'utg', 'om', 'bewok', 'ga', 'kena', 'penyakit', 'miskin'], ['allah', 'tuhanku', 'sembuhkanlah', 'penyakit', 'ayahku', 'sahabat', 'sekalian', 'doakan', 'kesihatan', 'utk', 'ayah', 'rindu', 'ayah'], ['ubatohubat', 'vaksin', 'human', 'papilloma', 'virus', 'hpv', 'mencegah', 'kanser', 'serviks', 'kalangan', 'wanita', 'mengurangkan', 'insiden', 'penyakit'], ['longflightonme', 'suka', 'cari', 'penyakit', 'emang'], ['alhamdulillah', 'ikut', 'lega', 'bun', 'semoga', 'mamanya', 'selalu', 'diberi', 'kesehatan', 'terus', 'dijauhkan', 'dr', 'penyakit', 'aamiin'], ['haish', 'datang', 'dah', 'penyakit', 'sikit', 'sikit', 'lapar', 'ni', 'susah', 'nye', 'nk', 'control'], ['afrina', 'amira', 'guys', 'minta', 'semua', 'adik', 'kawan', 'ain', 'natasya', 'tahun', 'menghidap', 'penyakit', 'scoliosis'], ['semuagajelas', 'jahat', 'bgt', 'padahal', 'penyakit'], ['petanirasional', 'pencegahan', 'pengendalian', 'penyakit', 'patek', 'antraknosa', 'patek', 'antraknosa', 'merupakan', 'penyakit', 'ut'], ['ivegotyu', 'txtdarionlshop', 'teman', 'teman', 'aku', 'minta', 'waktu', 'bantuan', 'saudara', 'aku', 'terkena', 'penyakit', 'leukimia', 'dimas'], ['bisshoba', 'sukakucingbgtt', 'cewehijrah', 'kak', 'kalo', 'misalkan', 'gitu', 'penyakit', 'menularkan', 'orang', 'enta'], ['scoupstatus', 'gagal', 'ginjal', 'diabetes', 'jantung', 'penyakit', 'dalem', 'dah'], ['dghisham', 'kenyataan', 'akhbar', 'kpk', 'oktober', 'situasi', 'semasa', 'jangkitan', 'penyakit', 'coronavirus', 'covid', 'malaysia'], ['udah', 'udah', 'dimute', 'gausah', 'sampe', 'scroll', 'bawah', 'segala', 'gausah', 'cari', 'penyakit', 'sendiri'], ['hausofhilton', 'sekali', 'biasanya', 'virus', 'varicella', 'zoster', 'berhibernasi', 'pusat', 'saraf', 'tunjang', 'sesetengah', 'ora'], ['nininell', 'sedekah', 'rakyat', 'bayar', 'gaji', 'dinosaur', 'rakyat', 'rakyat', 'penyakit', 'hilang', 'kerja', 'bisnes', 'gulung', 'tikar'], ['hobak', 'alt', 'dokter', 'bingung', 'deh', 'kayanya', 'penyakit', 'apaan'], ['aliffshanusi', 'senarai', 'penyakit', 'kritikal', 'dibenarkan', 'pengeluaran', 'kwsp', 'berikut', 'ialah', 'senarai', 'jenis', 'penyakit', 'kritikal'], ['afrina', 'amira', 'guys', 'minta', 'semua', 'adik', 'kawan', 'ain', 'natasya', 'tahun', 'menghidap', 'penyakit', 'scoliosis']]\n"
     ]
    }
   ],
   "source": [
    "text_list =  [i.split() for i in data]\n",
    "print(len(text_list))\n",
    "print(text_list)"
   ]
  },
  {
   "cell_type": "code",
   "execution_count": 8,
   "metadata": {},
   "outputs": [],
   "source": [
    "import gensim\n",
    "#Create Bigram & Trigram Models \n",
    "from gensim.models import Phrases\n",
    "# Add bigrams and trigrams to docs,minimum count 10 means only that appear 10 times or more.\n",
    "bigram = Phrases(text_list, min_count=10)\n",
    "trigram = Phrases(bigram[text_list])\n",
    "for idx in range(len(text_list)):\n",
    "    for token in bigram[text_list[idx]]:\n",
    "        if '_' in token:\n",
    "            # Token is a bigram, add to document.\n",
    "            text_list[idx].append(token)\n",
    "    for token in trigram[text_list[idx]]:\n",
    "        if '_' in token:\n",
    "            # Token is a bigram, add to document.\n",
    "            text_list[idx].append(token)"
   ]
  },
  {
   "cell_type": "code",
   "execution_count": 9,
   "metadata": {},
   "outputs": [
    {
     "name": "stdout",
     "output_type": "stream",
     "text": [
      "Dictionary(1408 unique tokens: ['ayam', 'bah', 'kena', 'lae', 'post']...)\n"
     ]
    }
   ],
   "source": [
    "from gensim import corpora, models\n",
    "# Create a dictionary representation of the documents.\n",
    "dictionary = corpora.Dictionary(text_list)\n",
    "dictionary.filter_extremes(no_below=1, no_above=0.2) \n",
    "#no_below (int, optional) – Keep tokens which are contained in at least no_below documents.\n",
    "#no_above (float, optional) – Keep tokens which are contained in no more than no_above documents (fraction of total corpus size, not an absolute number).\n",
    "print(dictionary)"
   ]
  },
  {
   "cell_type": "code",
   "execution_count": 10,
   "metadata": {},
   "outputs": [],
   "source": [
    "doc_term_matrix = [dictionary.doc2bow(doc) for doc in text_list]"
   ]
  },
  {
   "cell_type": "code",
   "execution_count": 11,
   "metadata": {},
   "outputs": [
    {
     "name": "stdout",
     "output_type": "stream",
     "text": [
      "350\n",
      "[(9, 1), (10, 1), (11, 1), (12, 1), (13, 1), (14, 1), (15, 1), (16, 1), (17, 1), (18, 1), (19, 1), (20, 1), (21, 1), (22, 2), (23, 1), (24, 1), (25, 2), (26, 1), (27, 1)]\n"
     ]
    }
   ],
   "source": [
    "print(len(doc_term_matrix))\n",
    "print(doc_term_matrix[1])\n",
    "tfidf = models.TfidfModel(doc_term_matrix) #build TF-IDF model\n",
    "corpus_tfidf = tfidf[doc_term_matrix]"
   ]
  },
  {
   "cell_type": "code",
   "execution_count": 12,
   "metadata": {},
   "outputs": [],
   "source": [
    "from gensim.models.coherencemodel import CoherenceModel\n",
    "from gensim.models.ldamodel import LdaModel\n",
    "from gensim.corpora.dictionary import Dictionary\n",
    "from numpy import array\n",
    "#function to compute coherence values\n",
    "def compute_coherence_values(dictionary, corpus, texts, limit, start, step):\n",
    "    coherence_values = []\n",
    "    model_list = []\n",
    "    for num_topics in range(start, limit, step):\n",
    "        model = LdaModel(corpus=corpus, id2word=dictionary, num_topics=num_topics, iterations=300)\n",
    "        model_list.append(model)\n",
    "        coherencemodel = CoherenceModel(model=model, texts=texts, dictionary=dictionary, coherence='c_v')\n",
    "        coherence_values.append(coherencemodel.get_coherence())\n",
    "        \n",
    "    return model_list, coherence_values"
   ]
  },
  {
   "cell_type": "code",
   "execution_count": 13,
   "metadata": {},
   "outputs": [
    {
     "data": {
      "image/png": "[encoded data removed]",
      "text/plain": [
       "<Figure size 432x288 with 1 Axes>"
      ]
     },
     "metadata": {
      "needs_background": "light"
     },
     "output_type": "display_data"
    }
   ],
   "source": [
    "start=1\n",
    "limit=5\n",
    "step=1\n",
    "model_list, coherence_values = compute_coherence_values(dictionary, corpus=corpus_tfidf, \n",
    "                                                        texts=text_list, start=start, limit=limit, step=step)\n",
    "#show graphs\n",
    "import matplotlib.pyplot as plt\n",
    "x = range(start, limit, step)\n",
    "plt.plot(x, coherence_values)\n",
    "plt.xlabel(\"Number of Topics\")\n",
    "plt.ylabel(\"Coherence score\")\n",
    "plt.legend((\"coherence_values\"), loc='best')\n",
    "plt.show()"
   ]
  },
  {
   "cell_type": "code",
   "execution_count": 14,
   "metadata": {},
   "outputs": [
    {
     "name": "stdout",
     "output_type": "stream",
     "text": [
      "Num Topics = 1  has Coherence Value of 0.898829\n",
      "Num Topics = 2  has Coherence Value of 0.799648\n",
      "Num Topics = 3  has Coherence Value of 0.836692\n",
      "Num Topics = 4  has Coherence Value of 0.667149\n"
     ]
    }
   ],
   "source": [
    "# Print the coherence scores\n",
    "for m, cv in zip(x, coherence_values):\n",
    "    print(\"Num Topics =\", m, \" has Coherence Value of\", round(cv, 6))"
   ]
  },
  {
   "cell_type": "code",
   "execution_count": 15,
   "metadata": {},
   "outputs": [
    {
     "name": "stdout",
     "output_type": "stream",
     "text": [
      "Topic: 0 Word: 0.007*\"berbahaya_merupakan\" + 0.007*\"berjangkit_bawaan\" + 0.007*\"virus_cukup\" + 0.007*\"smallpox_merupakan\" + 0.007*\"merupakan\" + 0.004*\"bawaan\" + 0.004*\"cukup\" + 0.004*\"bukti_keja\" + 0.004*\"berjangkit\" + 0.004*\"keja\"\n",
      "Topic: 1 Word: 0.019*\"semua_adik\" + 0.018*\"natasya_tahun\" + 0.010*\"afrina_amira\" + 0.010*\"menghidap\" + 0.010*\"guys_minta\" + 0.010*\"adik\" + 0.010*\"scoliosis\" + 0.010*\"menghidap_penyakit\" + 0.009*\"guys\" + 0.009*\"afrina\"\n",
      "Topic: 2 Word: 0.009*\"natasya_tahun\" + 0.008*\"semua_adik\" + 0.006*\"teman_teman\" + 0.006*\"aku_terkena\" + 0.005*\"ain\" + 0.005*\"kawan_ain\" + 0.005*\"kawan\" + 0.005*\"semua_adik_kawan_ain\" + 0.005*\"natasya\" + 0.005*\"guys\"\n"
     ]
    }
   ],
   "source": [
    "model = LdaModel(corpus=corpus_tfidf, id2word=dictionary, num_topics=3) #num topic menyesuaikan hasil dari coherence value paling tinggi\n",
    "for idx, topic in model.print_topics(-1):\n",
    "    print('Topic: {} Word: {}'.format(idx, topic)) "
   ]
  },
  {
   "cell_type": "code",
   "execution_count": 16,
   "metadata": {},
   "outputs": [
    {
     "name": "stdout",
     "output_type": "stream",
     "text": [
      "None\n"
     ]
    }
   ],
   "source": [
    "import pandas as pd\n",
    "top_words_per_topic = []\n",
    "for t in range(model.num_topics):\n",
    "    top_words_per_topic.extend([(t, ) + x for x in model.show_topic(t, topn = 10)])\n",
    "#pd.DataFrame(top_words_per_topic, columns=['Topic', 'Word', 'P']).to_csv(\"top_words.csv\")\n",
    "df = pd.DataFrame(top_words_per_topic, columns=['Topic', 'Word','P']).to_csv(\"top_words2.csv\")\n",
    "print(df)"
   ]
  },
  {
   "cell_type": "code",
   "execution_count": 17,
   "metadata": {},
   "outputs": [
    {
     "name": "stdout",
     "output_type": "stream",
     "text": [
      "PreparedData(topic_coordinates=              x         y  topics  cluster       Freq\n",
      "topic                                                \n",
      "1     -0.056151 -0.016452       1        1  42.556747\n",
      "0      0.067485 -0.009355       2        1  33.138906\n",
      "2     -0.011334  0.025807       3        1  24.304347, topic_info=                    Term       Freq      Total Category  logprob  loglift\n",
      "22         natasya_tahun  12.000000  12.000000  Default  30.0000  30.0000\n",
      "25            semua_adik  12.000000  12.000000  Default  29.0000  29.0000\n",
      "223  berbahaya_merupakan   3.000000   3.000000  Default  28.0000  28.0000\n",
      "225    berjangkit_bawaan   3.000000   3.000000  Default  27.0000  27.0000\n",
      "236          virus_cukup   3.000000   3.000000  Default  26.0000  26.0000\n",
      "..                   ...        ...        ...      ...      ...      ...\n",
      "16            guys_minta   1.237290   6.344035   Topic3  -5.4489  -0.2201\n",
      "19             menghidap   1.220098   6.350764   Topic3  -5.4629  -0.2351\n",
      "9                   adik   1.218009   6.329014   Topic3  -5.4646  -0.2334\n",
      "11          afrina_amira   1.188628   6.361406   Topic3  -5.4890  -0.2629\n",
      "48                    yg   0.748086   2.901934   Topic3  -5.9520   0.0589\n",
      "\n",
      "[169 rows x 6 columns], token_table=      Topic      Freq            Term\n",
      "term                                 \n",
      "254       1  0.588450            abam\n",
      "9         1  0.790012            adik\n",
      "9         3  0.158002            adik\n",
      "10        1  0.790828          afrina\n",
      "10        3  0.158166          afrina\n",
      "...     ...       ...             ...\n",
      "154       3  0.694625           waktu\n",
      "48        1  0.344598              yg\n",
      "48        2  0.344598              yg\n",
      "48        3  0.344598              yg\n",
      "562       2  0.794167  yg_menyebabkan\n",
      "\n",
      "[137 rows x 3 columns], R=30, lambda_step=0.01, plot_opts={'xlab': 'PC1', 'ylab': 'PC2'}, topic_order=[2, 1, 3])\n"
     ]
    }
   ],
   "source": [
    "import gensim\n",
    "import pyLDAvis.gensim;pyLDAvis.enable_notebook()\n",
    "data = pyLDAvis.gensim.prepare(model, corpus_tfidf, dictionary)\n",
    "print(data)\n",
    "pyLDAvis.save_html(data, 'visualisasi-penyakit-topic-modeling.html')"
   ]
  },
  {
   "cell_type": "code",
   "execution_count": null,
   "metadata": {},
   "outputs": [],
   "source": []
  }
 ],
 "metadata": {
  "kernelspec": {
   "display_name": "Python 3",
   "language": "python",
   "name": "python3"
  },
  "language_info": {
   "codemirror_mode": {
    "name": "ipython",
    "version": 3
   },
   "file_extension": ".py",
   "mimetype": "text/x-python",
   "name": "python",
   "nbconvert_exporter": "python",
   "pygments_lexer": "ipython3",
   "version": "3.7.6"
  }
 },
 "nbformat": 4,
 "nbformat_minor": 4
}
